{
 "cells": [
  {
   "cell_type": "markdown",
   "metadata": {
    "collapsed": true,
    "deletable": true,
    "editable": true
   },
   "source": [
    "# Image Classification\n",
    "In this project, you'll classify images from the [CIFAR-10 dataset](https://www.cs.toronto.edu/~kriz/cifar.html).  The dataset consists of airplanes, dogs, cats, and other objects. You'll preprocess the images, then train a convolutional neural network on all the samples. The images need to be normalized and the labels need to be one-hot encoded.  You'll get to apply what you learned and build a convolutional, max pooling, dropout, and fully connected layers.  At the end, you'll get to see your neural network's predictions on the sample images.\n",
    "## Get the Data\n",
    "Run the following cell to download the [CIFAR-10 dataset for python](https://www.cs.toronto.edu/~kriz/cifar-10-python.tar.gz)."
   ]
  },
  {
   "cell_type": "code",
   "execution_count": 55,
   "metadata": {
    "collapsed": false,
    "deletable": true,
    "editable": true
   },
   "outputs": [
    {
     "name": "stdout",
     "output_type": "stream",
     "text": [
      "All files found!\n"
     ]
    }
   ],
   "source": [
    "\"\"\"\n",
    "DON'T MODIFY ANYTHING IN THIS CELL THAT IS BELOW THIS LINE\n",
    "\"\"\"\n",
    "from urllib.request import urlretrieve\n",
    "from os.path import isfile, isdir\n",
    "from tqdm import tqdm\n",
    "import problem_unittests as tests\n",
    "import tarfile\n",
    "\n",
    "cifar10_dataset_folder_path = 'cifar-10-batches-py'\n",
    "\n",
    "class DLProgress(tqdm):\n",
    "    last_block = 0\n",
    "\n",
    "    def hook(self, block_num=1, block_size=1, total_size=None):\n",
    "        self.total = total_size\n",
    "        self.update((block_num - self.last_block) * block_size)\n",
    "        self.last_block = block_num\n",
    "\n",
    "if not isfile('cifar-10-python.tar.gz'):\n",
    "    with DLProgress(unit='B', unit_scale=True, miniters=1, desc='CIFAR-10 Dataset') as pbar:\n",
    "        urlretrieve(\n",
    "            'https://www.cs.toronto.edu/~kriz/cifar-10-python.tar.gz',\n",
    "            'cifar-10-python.tar.gz',\n",
    "            pbar.hook)\n",
    "\n",
    "if not isdir(cifar10_dataset_folder_path):\n",
    "    with tarfile.open('cifar-10-python.tar.gz') as tar:\n",
    "        tar.extractall()\n",
    "        tar.close()\n",
    "\n",
    "\n",
    "tests.test_folder_path(cifar10_dataset_folder_path)"
   ]
  },
  {
   "cell_type": "markdown",
   "metadata": {
    "deletable": true,
    "editable": true
   },
   "source": [
    "## Explore the Data\n",
    "The dataset is broken into batches to prevent your machine from running out of memory.  The CIFAR-10 dataset consists of 5 batches, named `data_batch_1`, `data_batch_2`, etc.. Each batch contains the labels and images that are one of the following:\n",
    "* airplane\n",
    "* automobile\n",
    "* bird\n",
    "* cat\n",
    "* deer\n",
    "* dog\n",
    "* frog\n",
    "* horse\n",
    "* ship\n",
    "* truck\n",
    "\n",
    "Understanding a dataset is part of making predictions on the data.  Play around with the code cell below by changing the `batch_id` and `sample_id`. The `batch_id` is the id for a batch (1-5). The `sample_id` is the id for a image and label pair in the batch.\n",
    "\n",
    "Ask yourself \"What are all possible labels?\", \"What is the range of values for the image data?\", \"Are the labels in order or random?\".  Answers to questions like these will help you preprocess the data and end up with better predictions."
   ]
  },
  {
   "cell_type": "code",
   "execution_count": 56,
   "metadata": {
    "collapsed": false,
    "deletable": true,
    "editable": true
   },
   "outputs": [
    {
     "name": "stdout",
     "output_type": "stream",
     "text": [
      "\n",
      "Stats of batch 2:\n",
      "Samples: 10000\n",
      "Label Counts: {0: 984, 1: 1007, 2: 1010, 3: 995, 4: 1010, 5: 988, 6: 1008, 7: 1026, 8: 987, 9: 985}\n",
      "First 20 Labels: [1, 6, 6, 8, 8, 3, 4, 6, 0, 6, 0, 3, 6, 6, 5, 4, 8, 3, 2, 6]\n",
      "\n",
      "Example of Image 8:\n",
      "Image - Min Value: 31 Max Value: 255\n",
      "Image - Shape: (32, 32, 3)\n",
      "Label - Label Id: 0 Name: airplane\n"
     ]
    },
    {
     "data": {
      "image/png": "[encoded data removed]",
      "text/plain": [
       "<matplotlib.figure.Figure at 0x7f73a817ff60>"
      ]
     },
     "metadata": {
      "image/png": {
       "height": 250,
       "width": 253
      }
     },
     "output_type": "display_data"
    }
   ],
   "source": [
    "%matplotlib inline\n",
    "%config InlineBackend.figure_format = 'retina'\n",
    "\n",
    "import helper\n",
    "import numpy as np\n",
    "\n",
    "# Explore the dataset\n",
    "batch_id = 2\n",
    "sample_id = 8\n",
    "helper.display_stats(cifar10_dataset_folder_path, batch_id, sample_id)"
   ]
  },
  {
   "cell_type": "code",
   "execution_count": 57,
   "metadata": {
    "collapsed": false,
    "deletable": true,
    "editable": true
   },
   "outputs": [
    {
     "name": "stdout",
     "output_type": "stream",
     "text": [
      "Counter({0: 5000, 1: 5000, 2: 5000, 3: 5000, 4: 5000, 5: 5000, 6: 5000, 7: 5000, 8: 5000, 9: 5000})\n"
     ]
    }
   ],
   "source": [
    "# Check that classes are balanced\n",
    "from collections import Counter\n",
    "class_counters = Counter()\n",
    "\n",
    "for batch_id in range(1,6):\n",
    "    _, batch_labels = helper.load_cfar10_batch(cifar10_dataset_folder_path, batch_id)\n",
    "    class_counters.update(batch_labels)\n",
    "print(class_counters)"
   ]
  },
  {
   "cell_type": "markdown",
   "metadata": {
    "deletable": true,
    "editable": true
   },
   "source": [
    "## Data Characteristics\n",
    "1. Data is divided into 5 batches with 10.000 samples each.\n",
    "2. Image values € [0,255]\n",
    "3. Labels € [0,9]\n",
    "4. Classes are balanced - 5000 samples each of the 10 different classes.\n",
    "5. Samples are at least not ordered. Unclear if they are actually in random order, but it looks good enough."
   ]
  },
  {
   "cell_type": "markdown",
   "metadata": {
    "deletable": true,
    "editable": true
   },
   "source": [
    "## Implement Preprocess Functions\n",
    "### Normalize\n",
    "In the cell below, implement the `normalize` function to take in image data, `x`, and return it as a normalized Numpy array. The values should be in the range of 0 to 1, inclusive.  The return object should be the same shape as `x`."
   ]
  },
  {
   "cell_type": "code",
   "execution_count": 58,
   "metadata": {
    "collapsed": false,
    "deletable": true,
    "editable": true
   },
   "outputs": [
    {
     "name": "stdout",
     "output_type": "stream",
     "text": [
      "Tests Passed\n"
     ]
    }
   ],
   "source": [
    "def normalize(x):\n",
    "    \"\"\"\n",
    "    Normalize a list of sample image data in the range of 0 to 1\n",
    "    : x: List of image data.  The image shape is (32, 32, 3)\n",
    "    : return: Numpy array of normalize data\n",
    "    \"\"\"\n",
    "    # Normalize x using min/max-scaling: x.norm = (x-x.min())/(x.max()-x.min())\n",
    "    # But since image values € [0,255], min = 0, max = 255 => x.norm = x/255\n",
    "    return (x/255.0)\n",
    "\n",
    "\n",
    "\"\"\"\n",
    "DON'T MODIFY ANYTHING IN THIS CELL THAT IS BELOW THIS LINE\n",
    "\"\"\"\n",
    "tests.test_normalize(normalize)"
   ]
  },
  {
   "cell_type": "markdown",
   "metadata": {
    "deletable": true,
    "editable": true
   },
   "source": [
    "### One-hot encode\n",
    "Just like the previous code cell, you'll be implementing a function for preprocessing.  This time, you'll implement the `one_hot_encode` function. The input, `x`, are a list of labels.  Implement the function to return the list of labels as One-Hot encoded Numpy array.  The possible values for labels are 0 to 9. The one-hot encoding function should return the same encoding for each value between each call to `one_hot_encode`.  Make sure to save the map of encodings outside the function.\n",
    "\n",
    "Hint: Don't reinvent the wheel."
   ]
  },
  {
   "cell_type": "code",
   "execution_count": 60,
   "metadata": {
    "collapsed": false,
    "deletable": true,
    "editable": true
   },
   "outputs": [
    {
     "name": "stdout",
     "output_type": "stream",
     "text": [
      "Tests Passed\n"
     ]
    }
   ],
   "source": [
    "# \"Hint: Don't reinvent the wheel\" = Use scikit learn!\n",
    "from sklearn import preprocessing\n",
    "\n",
    "# Create a label binarizer\n",
    "binarizer = preprocessing.LabelBinarizer()\n",
    "\n",
    "def one_hot_encode(x):\n",
    "    \"\"\"\n",
    "    One hot encode a list of sample labels. Return a one-hot encoded vector for each label.\n",
    "    : x: List of sample Labels\n",
    "    : return: Numpy array of one-hot encoded labels\n",
    "    \"\"\"\n",
    "    # Get labels only once\n",
    "    if not hasattr(binarizer, 'classes_'):\n",
    "        binarizer.fit(x)\n",
    "\n",
    "    # Tranform input x into one-hot format\n",
    "    return binarizer.transform(x)\n",
    "\n",
    "\n",
    "\"\"\"\n",
    "DON'T MODIFY ANYTHING IN THIS CELL THAT IS BELOW THIS LINE\n",
    "\"\"\"\n",
    "tests.test_one_hot_encode(one_hot_encode)"
   ]
  },
  {
   "cell_type": "markdown",
   "metadata": {
    "deletable": true,
    "editable": true
   },
   "source": [
    "### Randomize Data\n",
    "As you saw from exploring the data above, the order of the samples are randomized.  It doesn't hurt to randomize it again, but you don't need to for this dataset."
   ]
  },
  {
   "cell_type": "markdown",
   "metadata": {
    "deletable": true,
    "editable": true
   },
   "source": [
    "## Preprocess all the data and save it\n",
    "Running the code cell below will preprocess all the CIFAR-10 data and save it to file. The code below also uses 10% of the training data for validation."
   ]
  },
  {
   "cell_type": "code",
   "execution_count": 7,
   "metadata": {
    "collapsed": false,
    "deletable": true,
    "editable": true
   },
   "outputs": [],
   "source": [
    "\"\"\"\n",
    "DON'T MODIFY ANYTHING IN THIS CELL\n",
    "\"\"\"\n",
    "# Preprocess Training, Validation, and Testing Data\n",
    "helper.preprocess_and_save_data(cifar10_dataset_folder_path, normalize, one_hot_encode)"
   ]
  },
  {
   "cell_type": "markdown",
   "metadata": {
    "deletable": true,
    "editable": true
   },
   "source": [
    "# Check Point\n",
    "This is your first checkpoint.  If you ever decide to come back to this notebook or have to restart the notebook, you can start from here.  The preprocessed data has been saved to disk."
   ]
  },
  {
   "cell_type": "code",
   "execution_count": 8,
   "metadata": {
    "collapsed": true,
    "deletable": true,
    "editable": true
   },
   "outputs": [],
   "source": [
    "\"\"\"\n",
    "DON'T MODIFY ANYTHING IN THIS CELL\n",
    "\"\"\"\n",
    "import pickle\n",
    "import problem_unittests as tests\n",
    "import helper\n",
    "\n",
    "# Load the Preprocessed Validation data\n",
    "valid_features, valid_labels = pickle.load(open('preprocess_validation.p', mode='rb'))"
   ]
  },
  {
   "cell_type": "markdown",
   "metadata": {
    "deletable": true,
    "editable": true
   },
   "source": [
    "## Build the network\n",
    "For the neural network, you'll build each layer into a function.  Most of the code you've seen has been outside of functions. To test your code more thoroughly, we require that you put each layer in a function.  This allows us to give you better feedback and test for simple mistakes using our unittests before you submit your project.\n",
    "\n",
    "If you're finding it hard to dedicate enough time for this course a week, we've provided a small shortcut to this part of the project. In the next couple of problems, you'll have the option to use [TensorFlow Layers](https://www.tensorflow.org/api_docs/python/tf/layers) or [TensorFlow Layers (contrib)](https://www.tensorflow.org/api_guides/python/contrib.layers) to build each layer, except \"Convolutional & Max Pooling\" layer.  TF Layers is similar to Keras's and TFLearn's abstraction to layers, so it's easy to pickup.\n",
    "\n",
    "If you would like to get the most of this course, try to solve all the problems without TF Layers.  Let's begin!\n",
    "### Input\n",
    "The neural network needs to read the image data, one-hot encoded labels, and dropout keep probability. Implement the following functions\n",
    "* Implement `neural_net_image_input`\n",
    " * Return a [TF Placeholder](https://www.tensorflow.org/api_docs/python/tf/placeholder)\n",
    " * Set the shape using `image_shape` with batch size set to `None`.\n",
    " * Name the TensorFlow placeholder \"x\" using the TensorFlow `name` parameter in the [TF Placeholder](https://www.tensorflow.org/api_docs/python/tf/placeholder).\n",
    "* Implement `neural_net_label_input`\n",
    " * Return a [TF Placeholder](https://www.tensorflow.org/api_docs/python/tf/placeholder)\n",
    " * Set the shape using `n_classes` with batch size set to `None`.\n",
    " * Name the TensorFlow placeholder \"y\" using the TensorFlow `name` parameter in the [TF Placeholder](https://www.tensorflow.org/api_docs/python/tf/placeholder).\n",
    "* Implement `neural_net_keep_prob_input`\n",
    " * Return a [TF Placeholder](https://www.tensorflow.org/api_docs/python/tf/placeholder) for dropout keep probability.\n",
    " * Name the TensorFlow placeholder \"keep_prob\" using the TensorFlow `name` parameter in the [TF Placeholder](https://www.tensorflow.org/api_docs/python/tf/placeholder).\n",
    "\n",
    "These names will be used at the end of the project to load your saved model.\n",
    "\n",
    "Note: `None` for shapes in TensorFlow allow for a dynamic size."
   ]
  },
  {
   "cell_type": "code",
   "execution_count": 61,
   "metadata": {
    "collapsed": false,
    "deletable": true,
    "editable": true
   },
   "outputs": [
    {
     "name": "stdout",
     "output_type": "stream",
     "text": [
      "Image Input Tests Passed.\n",
      "Label Input Tests Passed.\n",
      "Keep Prob Tests Passed.\n"
     ]
    }
   ],
   "source": [
    "import tensorflow as tf\n",
    "\n",
    "def neural_net_image_input(image_shape):\n",
    "    \"\"\"\n",
    "    Return a Tensor for a bach of image input\n",
    "    : image_shape: Shape of the images\n",
    "    : return: Tensor for image input.\n",
    "    \"\"\"\n",
    "    # Create placeholder for input x\n",
    "    return tf.placeholder(tf.float32, shape=[None, image_shape[0], image_shape[1], image_shape[2]], name='x')\n",
    "\n",
    "\n",
    "def neural_net_label_input(n_classes):\n",
    "    \"\"\"\n",
    "    Return a Tensor for a batch of label input\n",
    "    : n_classes: Number of classes\n",
    "    : return: Tensor for label input.\n",
    "    \"\"\"\n",
    "    # Create placeholder for input y\n",
    "    return tf.placeholder(tf.float32, shape=[None, n_classes], name='y')\n",
    "\n",
    "\n",
    "def neural_net_keep_prob_input():\n",
    "    \"\"\"\n",
    "    Return a Tensor for keep probability\n",
    "    : return: Tensor for keep probability.\n",
    "    \"\"\"\n",
    "    # Create placeholder for dropout keep probability\n",
    "    return tf.placeholder(tf.float32, name='keep_prob')\n",
    "\n",
    "\n",
    "\"\"\"\n",
    "DON'T MODIFY ANYTHING IN THIS CELL THAT IS BELOW THIS LINE\n",
    "\"\"\"\n",
    "tf.reset_default_graph()\n",
    "tests.test_nn_image_inputs(neural_net_image_input)\n",
    "tests.test_nn_label_inputs(neural_net_label_input)\n",
    "tests.test_nn_keep_prob_inputs(neural_net_keep_prob_input)"
   ]
  },
  {
   "cell_type": "markdown",
   "metadata": {
    "deletable": true,
    "editable": true
   },
   "source": [
    "### Convolution and Max Pooling Layer\n",
    "Convolution layers have a lot of success with images. For this code cell, you should implement the function `conv2d_maxpool` to apply convolution then max pooling:\n",
    "* Create the weight and bias using `conv_ksize`, `conv_num_outputs` and the shape of `x_tensor`.\n",
    "* Apply a convolution to `x_tensor` using weight and `conv_strides`.\n",
    " * We recommend you use same padding, but you're welcome to use any padding.\n",
    "* Add bias\n",
    "* Add a nonlinear activation to the convolution.\n",
    "* Apply Max Pooling using `pool_ksize` and `pool_strides`.\n",
    " * We recommend you use same padding, but you're welcome to use any padding.\n",
    "\n",
    "Note: You **can't** use [TensorFlow Layers](https://www.tensorflow.org/api_docs/python/tf/layers) or [TensorFlow Layers (contrib)](https://www.tensorflow.org/api_guides/python/contrib.layers) for this layer.  You're free to use any TensorFlow package for all the other layers."
   ]
  },
  {
   "cell_type": "code",
   "execution_count": 62,
   "metadata": {
    "collapsed": true
   },
   "outputs": [],
   "source": [
    "# Create functions for initializing weights and biases variables.\n",
    "# It will make it easy to try out different intialization strategies.\n",
    "#\n",
    "#  - Break symmetry in weights, to facilitate optimization.\n",
    "#  - Start with a small positive bias to avoid dead units (since ReLU is used as non-linearity).\n",
    "#\n",
    "# Use variable scope concept to be able to reuse variables in multiple layers.\n",
    "\n",
    "def create_weights_variable(name, shape):\n",
    "    return tf.Variable(tf.truncated_normal(shape, stddev=0.1), name=name)\n",
    "\n",
    "def create_biases_variable(name, shape):\n",
    "    return tf.Variable(tf.constant(0.1, shape = shape), name=name)"
   ]
  },
  {
   "cell_type": "code",
   "execution_count": 63,
   "metadata": {
    "collapsed": false,
    "deletable": true,
    "editable": true
   },
   "outputs": [
    {
     "name": "stdout",
     "output_type": "stream",
     "text": [
      "Tests Passed\n"
     ]
    }
   ],
   "source": [
    "def conv2d_maxpool(x_tensor, conv_num_outputs, conv_ksize, conv_strides, pool_ksize, pool_strides):\n",
    "    \"\"\"\n",
    "    Apply convolution then max pooling to x_tensor\n",
    "    :param x_tensor: TensorFlow Tensor\n",
    "    :param conv_num_outputs: Number of outputs for the convolutional layer\n",
    "    :param conv_strides: Stride 2-D Tuple for convolution\n",
    "    :param pool_ksize: kernal size 2-D Tuple for pool\n",
    "    :param pool_strides: Stride 2-D Tuple for pool\n",
    "    : return: A tensor that represents convolution and max pooling of x_tensor\n",
    "    \"\"\"\n",
    "    \n",
    "    # Define convolution and pooling kernels\n",
    "    input_depth = x_tensor.get_shape().as_list()[3]\n",
    "    # NOTE: \"conv_num_outputs\" means output (filter) depth in this function\n",
    "    # Rename it to a more intuitive name\n",
    "    output_depth = conv_num_outputs\n",
    "    conv_kernel_shape = [conv_ksize[0], conv_ksize[1], input_depth, output_depth]\n",
    "    conv_strides_shape = [1, conv_strides[0], conv_strides[1], 1]\n",
    "    pooling_kernel_shape = [1, pool_ksize[0], pool_ksize[1], 1]\n",
    "    pooling_strides_shape = [1, pool_strides[0], pool_strides[1], 1]\n",
    "    \n",
    "    # Init weights and biases\n",
    "    w_conv = create_weights_variable(\"w_conv\", conv_kernel_shape)\n",
    "    b_conv = create_biases_variable(\"b_conv\", [output_depth])\n",
    "    \n",
    "    # Convolution layer\n",
    "    conv = tf.nn.conv2d(x_tensor, w_conv, strides=conv_strides_shape, padding='SAME')\n",
    "    conv = tf.nn.bias_add(conv, b_conv)\n",
    "\n",
    "    # Use ReLU as the non-linearity\n",
    "    relu = tf.nn.relu(conv)\n",
    "    \n",
    "    # Max pooling layer\n",
    "    return tf.nn.max_pool(relu, ksize=pooling_kernel_shape, strides=pooling_strides_shape, padding='SAME')\n",
    "\n",
    "\n",
    "\"\"\"\n",
    "DON'T MODIFY ANYTHING IN THIS CELL THAT IS BELOW THIS LINE\n",
    "\"\"\"\n",
    "tests.test_con_pool(conv2d_maxpool)"
   ]
  },
  {
   "cell_type": "markdown",
   "metadata": {
    "deletable": true,
    "editable": true
   },
   "source": [
    "### Flatten Layer\n",
    "Implement the `flatten` function to change the dimension of `x_tensor` from a 4-D tensor to a 2-D tensor.  The output should be the shape (*Batch Size*, *Flattened Image Size*). You can use [TensorFlow Layers](https://www.tensorflow.org/api_docs/python/tf/layers) or [TensorFlow Layers (contrib)](https://www.tensorflow.org/api_guides/python/contrib.layers) for this layer."
   ]
  },
  {
   "cell_type": "code",
   "execution_count": 64,
   "metadata": {
    "collapsed": false,
    "deletable": true,
    "editable": true
   },
   "outputs": [
    {
     "name": "stdout",
     "output_type": "stream",
     "text": [
      "Tests Passed\n"
     ]
    }
   ],
   "source": [
    "def flatten(x_tensor):\n",
    "    \"\"\"\n",
    "    Flatten x_tensor to (Batch Size, Flattened Image Size)\n",
    "    : x_tensor: A tensor of size (Batch Size, ...), where ... are the image dimensions.\n",
    "    : return: A tensor of size (Batch Size, Flattened Image Size).\n",
    "    \"\"\"\n",
    "    # x_tensor dimensions = [Batch size, (Image size)]\n",
    "    # Thus, image size is stored in tensor dims 1x2x3\n",
    "    x_image_dims = x_tensor.get_shape().as_list()\n",
    "    return tf.reshape(x_tensor, [-1, x_image_dims[1] * x_image_dims[2] * x_image_dims[3]])\n",
    "\n",
    "\n",
    "\"\"\"\n",
    "DON'T MODIFY ANYTHING IN THIS CELL THAT IS BELOW THIS LINE\n",
    "\"\"\"\n",
    "tests.test_flatten(flatten)"
   ]
  },
  {
   "cell_type": "markdown",
   "metadata": {
    "deletable": true,
    "editable": true
   },
   "source": [
    "### Fully-Connected Layer\n",
    "Implement the `fully_conn` function to apply a fully connected layer to `x_tensor` with the shape (*Batch Size*, *num_outputs*). You can use [TensorFlow Layers](https://www.tensorflow.org/api_docs/python/tf/layers) or [TensorFlow Layers (contrib)](https://www.tensorflow.org/api_guides/python/contrib.layers) for this layer."
   ]
  },
  {
   "cell_type": "code",
   "execution_count": 65,
   "metadata": {
    "collapsed": false,
    "deletable": true,
    "editable": true
   },
   "outputs": [
    {
     "name": "stdout",
     "output_type": "stream",
     "text": [
      "Tests Passed\n"
     ]
    }
   ],
   "source": [
    "def fully_conn(x_tensor, num_outputs):\n",
    "    \"\"\"\n",
    "    Apply a fully connected layer to x_tensor using weight and bias\n",
    "    : x_tensor: A 2-D tensor where the first dimension is batch size.\n",
    "    : num_outputs: The number of output that the new tensor should be.\n",
    "    : return: A 2-D tensor where the second dimension is num_outputs.\n",
    "    \"\"\"\n",
    "    # Init weights and biases\n",
    "    w_fc = create_weights_variable(\"w_fc\", [x_tensor.get_shape().as_list()[1], num_outputs])\n",
    "    b_fc = create_biases_variable(\"b_fc\", [num_outputs])\n",
    "\n",
    "    return tf.nn.relu(tf.add(tf.matmul(x_tensor, w_fc), b_fc))\n",
    "\n",
    "\n",
    "\"\"\"\n",
    "DON'T MODIFY ANYTHING IN THIS CELL THAT IS BELOW THIS LINE\n",
    "\"\"\"\n",
    "tests.test_fully_conn(fully_conn)"
   ]
  },
  {
   "cell_type": "markdown",
   "metadata": {
    "deletable": true,
    "editable": true
   },
   "source": [
    "### Output Layer\n",
    "Implement the `output` function to apply a fully connected layer to `x_tensor` with the shape (*Batch Size*, *num_outputs*). You can use [TensorFlow Layers](https://www.tensorflow.org/api_docs/python/tf/layers) or [TensorFlow Layers (contrib)](https://www.tensorflow.org/api_guides/python/contrib.layers) for this layer.\n",
    "\n",
    "Note: Activation, softmax, or cross entropy shouldn't be applied to this."
   ]
  },
  {
   "cell_type": "code",
   "execution_count": 66,
   "metadata": {
    "collapsed": false,
    "deletable": true,
    "editable": true
   },
   "outputs": [
    {
     "name": "stdout",
     "output_type": "stream",
     "text": [
      "Tests Passed\n"
     ]
    }
   ],
   "source": [
    "def output(x_tensor, num_outputs):\n",
    "    \"\"\"\n",
    "    Apply a output layer to x_tensor using weight and bias\n",
    "    : x_tensor: A 2-D tensor where the first dimension is batch size.\n",
    "    : num_outputs: The number of output that the new tensor should be.\n",
    "    : return: A 2-D tensor where the second dimension is num_outputs.\n",
    "    \"\"\"\n",
    "    # Init weights and biases\n",
    "    w_out = create_weights_variable(\"w_out\", [x_tensor.get_shape().as_list()[1], num_outputs])\n",
    "    b_out = create_biases_variable(\"b_out\", [num_outputs])\n",
    "\n",
    "    return tf.add(tf.matmul(x_tensor, w_out), b_out)\n",
    "\n",
    "\"\"\"\n",
    "DON'T MODIFY ANYTHING IN THIS CELL THAT IS BELOW THIS LINE\n",
    "\"\"\"\n",
    "tests.test_output(output)"
   ]
  },
  {
   "cell_type": "markdown",
   "metadata": {
    "deletable": true,
    "editable": true
   },
   "source": [
    "### Create Convolutional Model\n",
    "Implement the function `conv_net` to create a convolutional neural network model. The function takes in a batch of images, `x`, and outputs logits.  Use the layers you created above to create this model:\n",
    "\n",
    "* Apply 1, 2, or 3 Convolution and Max Pool layers\n",
    "* Apply a Flatten Layer\n",
    "* Apply 1, 2, or 3 Fully Connected Layers\n",
    "* Apply an Output Layer\n",
    "* Return the output\n",
    "* Apply [TensorFlow's Dropout](https://www.tensorflow.org/api_docs/python/tf/nn/dropout) to one or more layers in the model using `keep_prob`. "
   ]
  },
  {
   "cell_type": "code",
   "execution_count": 67,
   "metadata": {
    "collapsed": false,
    "deletable": true,
    "editable": true
   },
   "outputs": [
    {
     "name": "stdout",
     "output_type": "stream",
     "text": [
      "Neural Network Built!\n"
     ]
    }
   ],
   "source": [
    "def conv_net(x, keep_prob):\n",
    "    \"\"\"\n",
    "    Create a convolutional neural network model\n",
    "    : x: Placeholder tensor that holds image data.\n",
    "    : keep_prob: Placeholder tensor that hold dropout keep probability.\n",
    "    : return: Tensor that represents logits\n",
    "    \"\"\"\n",
    "\n",
    "    # Convolution 1: 32x32x3 => 16x16x32\n",
    "    conv1 = conv2d_maxpool(x, 32, (5,5), (1,1), (2,2), (2,2))\n",
    "\n",
    "    # Convolution 2: 16x16x32 => 8x8x64\n",
    "    conv2 = conv2d_maxpool(conv1, 64, (4,4), (1,1), (2,2), (2,2))\n",
    "\n",
    "    # Convolution 3: 8x8x64 => 4x4x128\n",
    "    conv3 = conv2d_maxpool(conv2, 128, (2,2), (1,1), (2,2), (2,2))\n",
    "\n",
    "    # Flatten to 4x4x128 = 2048\n",
    "    flat = flatten(conv3)\n",
    "\n",
    "    # Fully connected 1 with dropout: 2048 => 1024\n",
    "    fc1 = fully_conn(flat, 1024)\n",
    "    fc1 = tf.nn.dropout(fc1, keep_prob)\n",
    "\n",
    "    # Fully connected 2 with dropout: 1024 => 512\n",
    "    fc2 = fully_conn(fc1, 512)\n",
    "    fc2 = tf.nn.dropout(fc2, keep_prob)\n",
    "\n",
    "    # Output: 512 => 10\n",
    "    out = output(fc2, 10)\n",
    "    \n",
    "    # TODO: return output\n",
    "    return out\n",
    "\n",
    "\n",
    "\"\"\"\n",
    "DON'T MODIFY ANYTHING IN THIS CELL THAT IS BELOW THIS LINE\n",
    "\"\"\"\n",
    "\n",
    "##############################\n",
    "## Build the Neural Network ##\n",
    "##############################\n",
    "\n",
    "# Remove previous weights, bias, inputs, etc..\n",
    "tf.reset_default_graph()\n",
    "\n",
    "# Inputs\n",
    "x = neural_net_image_input((32, 32, 3))\n",
    "y = neural_net_label_input(10)\n",
    "keep_prob = neural_net_keep_prob_input()\n",
    "\n",
    "# Model\n",
    "logits = conv_net(x, keep_prob)\n",
    "\n",
    "# Name logits Tensor, so that is can be loaded from disk after training\n",
    "logits = tf.identity(logits, name='logits')\n",
    "\n",
    "# Loss and Optimizer\n",
    "cost = tf.reduce_mean(tf.nn.softmax_cross_entropy_with_logits(logits=logits, labels=y))\n",
    "optimizer = tf.train.AdamOptimizer().minimize(cost)\n",
    "\n",
    "# Accuracy\n",
    "correct_pred = tf.equal(tf.argmax(logits, 1), tf.argmax(y, 1))\n",
    "accuracy = tf.reduce_mean(tf.cast(correct_pred, tf.float32), name='accuracy')\n",
    "\n",
    "tests.test_conv_net(conv_net)"
   ]
  },
  {
   "cell_type": "markdown",
   "metadata": {
    "deletable": true,
    "editable": true
   },
   "source": [
    "## Train the Neural Network\n",
    "### Single Optimization\n",
    "Implement the function `train_neural_network` to do a single optimization.  The optimization should use `optimizer` to optimize in `session` with a `feed_dict` of the following:\n",
    "* `x` for image input\n",
    "* `y` for labels\n",
    "* `keep_prob` for keep probability for dropout\n",
    "\n",
    "This function will be called for each batch, so `tf.global_variables_initializer()` has already been called.\n",
    "\n",
    "Note: Nothing needs to be returned. This function is only optimizing the neural network."
   ]
  },
  {
   "cell_type": "code",
   "execution_count": 68,
   "metadata": {
    "collapsed": false,
    "deletable": true,
    "editable": true
   },
   "outputs": [
    {
     "name": "stdout",
     "output_type": "stream",
     "text": [
      "Tests Passed\n"
     ]
    }
   ],
   "source": [
    "def train_neural_network(session, optimizer, keep_probability, feature_batch, label_batch):\n",
    "    \"\"\"\n",
    "    Optimize the session on a batch of images and labels\n",
    "    : session: Current TensorFlow session\n",
    "    : optimizer: TensorFlow optimizer function\n",
    "    : keep_probability: keep probability\n",
    "    : feature_batch: Batch of Numpy image data\n",
    "    : label_batch: Batch of Numpy label data\n",
    "    \"\"\"\n",
    "    session.run(optimizer, feed_dict={x: feature_batch, y: label_batch, keep_prob: keep_probability})\n",
    "\n",
    "\n",
    "\"\"\"\n",
    "DON'T MODIFY ANYTHING IN THIS CELL THAT IS BELOW THIS LINE\n",
    "\"\"\"\n",
    "tests.test_train_nn(train_neural_network)"
   ]
  },
  {
   "cell_type": "markdown",
   "metadata": {
    "deletable": true,
    "editable": true
   },
   "source": [
    "### Show Stats\n",
    "Implement the function `print_stats` to print loss and validation accuracy.  Use the global variables `valid_features` and `valid_labels` to calculate validation accuracy.  Use a keep probability of `1.0` to calculate the loss and validation accuracy."
   ]
  },
  {
   "cell_type": "code",
   "execution_count": 69,
   "metadata": {
    "collapsed": false,
    "deletable": true,
    "editable": true
   },
   "outputs": [],
   "source": [
    "def print_stats(session, feature_batch, label_batch, cost, accuracy):\n",
    "    \"\"\"\n",
    "    Print information about loss and validation accuracy\n",
    "    : session: Current TensorFlow session\n",
    "    : feature_batch: Batch of Numpy image data\n",
    "    : label_batch: Batch of Numpy label data\n",
    "    : cost: TensorFlow cost function\n",
    "    : accuracy: TensorFlow accuracy function\n",
    "    \"\"\"\n",
    "    # Calculate batch loss and accuracy\n",
    "    batch_loss = session.run(cost, feed_dict={x: feature_batch, y: label_batch, keep_prob: 1.0})\n",
    "    validation_accuracy = session.run(accuracy, feed_dict={x: valid_features, y: valid_labels, keep_prob: 1.0})\n",
    "    \n",
    "    print('Loss: {:>6.4f}, Validation Accuracy: {:.6f}'.format(batch_loss, validation_accuracy))"
   ]
  },
  {
   "cell_type": "markdown",
   "metadata": {
    "deletable": true,
    "editable": true
   },
   "source": [
    "### Hyperparameters\n",
    "Tune the following parameters:\n",
    "* Set `epochs` to the number of iterations until the network stops learning or start overfitting\n",
    "* Set `batch_size` to the highest number that your machine has memory for.  Most people set them to common sizes of memory:\n",
    " * 64\n",
    " * 128\n",
    " * 256\n",
    " * ...\n",
    "* Set `keep_probability` to the probability of keeping a node using dropout"
   ]
  },
  {
   "cell_type": "code",
   "execution_count": 70,
   "metadata": {
    "collapsed": true,
    "deletable": true,
    "editable": true
   },
   "outputs": [],
   "source": [
    "# TODO: Tune Parameters\n",
    "epochs = 50\n",
    "batch_size = 256\n",
    "keep_probability = 0.5"
   ]
  },
  {
   "cell_type": "markdown",
   "metadata": {
    "deletable": true,
    "editable": true
   },
   "source": [
    "### Train on a Single CIFAR-10 Batch\n",
    "Instead of training the neural network on all the CIFAR-10 batches of data, let's use a single batch. This should save time while you iterate on the model to get a better accuracy.  Once the final validation accuracy is 50% or greater, run the model on all the data in the next section."
   ]
  },
  {
   "cell_type": "code",
   "execution_count": 71,
   "metadata": {
    "collapsed": false,
    "deletable": true,
    "editable": true
   },
   "outputs": [
    {
     "name": "stdout",
     "output_type": "stream",
     "text": [
      "Checking the Training on a Single Batch...\n",
      "Epoch  1, CIFAR-10 Batch 1:  Loss: 2.1236, Validation Accuracy: 0.269600\n",
      "Epoch  2, CIFAR-10 Batch 1:  Loss: 1.9613, Validation Accuracy: 0.345400\n",
      "Epoch  3, CIFAR-10 Batch 1:  Loss: 1.7820, Validation Accuracy: 0.370400\n",
      "Epoch  4, CIFAR-10 Batch 1:  Loss: 1.6452, Validation Accuracy: 0.415000\n",
      "Epoch  5, CIFAR-10 Batch 1:  Loss: 1.4183, Validation Accuracy: 0.438600\n",
      "Epoch  6, CIFAR-10 Batch 1:  Loss: 1.3238, Validation Accuracy: 0.438200\n",
      "Epoch  7, CIFAR-10 Batch 1:  Loss: 1.1873, Validation Accuracy: 0.457600\n",
      "Epoch  8, CIFAR-10 Batch 1:  Loss: 1.0368, Validation Accuracy: 0.469000\n",
      "Epoch  9, CIFAR-10 Batch 1:  Loss: 0.9374, Validation Accuracy: 0.481400\n",
      "Epoch 10, CIFAR-10 Batch 1:  Loss: 0.7915, Validation Accuracy: 0.514800\n",
      "Epoch 11, CIFAR-10 Batch 1:  Loss: 0.6966, Validation Accuracy: 0.529200\n",
      "Epoch 12, CIFAR-10 Batch 1:  Loss: 0.5588, Validation Accuracy: 0.531600\n",
      "Epoch 13, CIFAR-10 Batch 1:  Loss: 0.5265, Validation Accuracy: 0.528000\n",
      "Epoch 14, CIFAR-10 Batch 1:  Loss: 0.4194, Validation Accuracy: 0.543600\n",
      "Epoch 15, CIFAR-10 Batch 1:  Loss: 0.3818, Validation Accuracy: 0.555800\n",
      "Epoch 16, CIFAR-10 Batch 1:  Loss: 0.3141, Validation Accuracy: 0.544000\n",
      "Epoch 17, CIFAR-10 Batch 1:  Loss: 0.2357, Validation Accuracy: 0.563400\n",
      "Epoch 18, CIFAR-10 Batch 1:  Loss: 0.1754, Validation Accuracy: 0.572000\n",
      "Epoch 19, CIFAR-10 Batch 1:  Loss: 0.1960, Validation Accuracy: 0.521000\n",
      "Epoch 20, CIFAR-10 Batch 1:  Loss: 0.1369, Validation Accuracy: 0.549600\n",
      "Epoch 21, CIFAR-10 Batch 1:  Loss: 0.1502, Validation Accuracy: 0.567000\n",
      "Epoch 22, CIFAR-10 Batch 1:  Loss: 0.0898, Validation Accuracy: 0.565000\n",
      "Epoch 23, CIFAR-10 Batch 1:  Loss: 0.0821, Validation Accuracy: 0.569600\n",
      "Epoch 24, CIFAR-10 Batch 1:  Loss: 0.0842, Validation Accuracy: 0.564000\n",
      "Epoch 25, CIFAR-10 Batch 1:  Loss: 0.0514, Validation Accuracy: 0.587800\n",
      "Epoch 26, CIFAR-10 Batch 1:  Loss: 0.0346, Validation Accuracy: 0.592800\n",
      "Epoch 27, CIFAR-10 Batch 1:  Loss: 0.0338, Validation Accuracy: 0.581600\n",
      "Epoch 28, CIFAR-10 Batch 1:  Loss: 0.0259, Validation Accuracy: 0.582800\n",
      "Epoch 29, CIFAR-10 Batch 1:  Loss: 0.0204, Validation Accuracy: 0.596600\n",
      "Epoch 30, CIFAR-10 Batch 1:  Loss: 0.0094, Validation Accuracy: 0.580400\n",
      "Epoch 31, CIFAR-10 Batch 1:  Loss: 0.0106, Validation Accuracy: 0.589800\n",
      "Epoch 32, CIFAR-10 Batch 1:  Loss: 0.0101, Validation Accuracy: 0.588800\n",
      "Epoch 33, CIFAR-10 Batch 1:  Loss: 0.0302, Validation Accuracy: 0.578200\n",
      "Epoch 34, CIFAR-10 Batch 1:  Loss: 0.0176, Validation Accuracy: 0.570600\n",
      "Epoch 35, CIFAR-10 Batch 1:  Loss: 0.0063, Validation Accuracy: 0.589600\n",
      "Epoch 36, CIFAR-10 Batch 1:  Loss: 0.0023, Validation Accuracy: 0.576200\n",
      "Epoch 37, CIFAR-10 Batch 1:  Loss: 0.0041, Validation Accuracy: 0.576200\n",
      "Epoch 38, CIFAR-10 Batch 1:  Loss: 0.0013, Validation Accuracy: 0.592000\n",
      "Epoch 39, CIFAR-10 Batch 1:  Loss: 0.0016, Validation Accuracy: 0.581000\n",
      "Epoch 40, CIFAR-10 Batch 1:  Loss: 0.0048, Validation Accuracy: 0.579800\n",
      "Epoch 41, CIFAR-10 Batch 1:  Loss: 0.0019, Validation Accuracy: 0.593400\n",
      "Epoch 42, CIFAR-10 Batch 1:  Loss: 0.0009, Validation Accuracy: 0.587400\n",
      "Epoch 43, CIFAR-10 Batch 1:  Loss: 0.0008, Validation Accuracy: 0.588600\n",
      "Epoch 44, CIFAR-10 Batch 1:  Loss: 0.0006, Validation Accuracy: 0.585000\n",
      "Epoch 45, CIFAR-10 Batch 1:  Loss: 0.0005, Validation Accuracy: 0.575600\n",
      "Epoch 46, CIFAR-10 Batch 1:  Loss: 0.0008, Validation Accuracy: 0.588200\n",
      "Epoch 47, CIFAR-10 Batch 1:  Loss: 0.0014, Validation Accuracy: 0.578200\n",
      "Epoch 48, CIFAR-10 Batch 1:  Loss: 0.0002, Validation Accuracy: 0.579800\n",
      "Epoch 49, CIFAR-10 Batch 1:  Loss: 0.0001, Validation Accuracy: 0.589200\n",
      "Epoch 50, CIFAR-10 Batch 1:  Loss: 0.0002, Validation Accuracy: 0.591400\n"
     ]
    }
   ],
   "source": [
    "\"\"\"\n",
    "DON'T MODIFY ANYTHING IN THIS CELL\n",
    "\"\"\"\n",
    "print('Checking the Training on a Single Batch...')\n",
    "with tf.Session() as sess:\n",
    "    # Initializing the variables\n",
    "    sess.run(tf.global_variables_initializer())\n",
    "    \n",
    "    # Training cycle\n",
    "    for epoch in range(epochs):\n",
    "        batch_i = 1\n",
    "        for batch_features, batch_labels in helper.load_preprocess_training_batch(batch_i, batch_size):\n",
    "            train_neural_network(sess, optimizer, keep_probability, batch_features, batch_labels)\n",
    "        print('Epoch {:>2}, CIFAR-10 Batch {}:  '.format(epoch + 1, batch_i), end='')\n",
    "        print_stats(sess, batch_features, batch_labels, cost, accuracy)"
   ]
  },
  {
   "cell_type": "markdown",
   "metadata": {
    "deletable": true,
    "editable": true
   },
   "source": [
    "### Fully Train the Model\n",
    "Now that you got a good accuracy with a single CIFAR-10 batch, try it with all five batches."
   ]
  },
  {
   "cell_type": "code",
   "execution_count": 72,
   "metadata": {
    "collapsed": false,
    "deletable": true,
    "editable": true
   },
   "outputs": [
    {
     "name": "stdout",
     "output_type": "stream",
     "text": [
      "Training...\n",
      "Epoch  1, CIFAR-10 Batch 1:  Loss: 2.1020, Validation Accuracy: 0.246600\n",
      "Epoch  1, CIFAR-10 Batch 2:  Loss: 1.9267, Validation Accuracy: 0.332600\n",
      "Epoch  1, CIFAR-10 Batch 3:  Loss: 1.5847, Validation Accuracy: 0.368600\n",
      "Epoch  1, CIFAR-10 Batch 4:  Loss: 1.6019, Validation Accuracy: 0.407400\n",
      "Epoch  1, CIFAR-10 Batch 5:  Loss: 1.6477, Validation Accuracy: 0.430200\n",
      "Epoch  2, CIFAR-10 Batch 1:  Loss: 1.5416, Validation Accuracy: 0.473000\n",
      "Epoch  2, CIFAR-10 Batch 2:  Loss: 1.4373, Validation Accuracy: 0.473200\n",
      "Epoch  2, CIFAR-10 Batch 3:  Loss: 1.1701, Validation Accuracy: 0.467000\n",
      "Epoch  2, CIFAR-10 Batch 4:  Loss: 1.2813, Validation Accuracy: 0.510800\n",
      "Epoch  2, CIFAR-10 Batch 5:  Loss: 1.2842, Validation Accuracy: 0.518200\n",
      "Epoch  3, CIFAR-10 Batch 1:  Loss: 1.3592, Validation Accuracy: 0.521800\n",
      "Epoch  3, CIFAR-10 Batch 2:  Loss: 1.1173, Validation Accuracy: 0.522400\n",
      "Epoch  3, CIFAR-10 Batch 3:  Loss: 0.9462, Validation Accuracy: 0.530200\n",
      "Epoch  3, CIFAR-10 Batch 4:  Loss: 1.0500, Validation Accuracy: 0.547200\n",
      "Epoch  3, CIFAR-10 Batch 5:  Loss: 1.0480, Validation Accuracy: 0.559400\n",
      "Epoch  4, CIFAR-10 Batch 1:  Loss: 1.1107, Validation Accuracy: 0.551400\n",
      "Epoch  4, CIFAR-10 Batch 2:  Loss: 0.9336, Validation Accuracy: 0.560000\n",
      "Epoch  4, CIFAR-10 Batch 3:  Loss: 0.8078, Validation Accuracy: 0.551000\n",
      "Epoch  4, CIFAR-10 Batch 4:  Loss: 0.8526, Validation Accuracy: 0.594000\n",
      "Epoch  4, CIFAR-10 Batch 5:  Loss: 0.8396, Validation Accuracy: 0.584200\n",
      "Epoch  5, CIFAR-10 Batch 1:  Loss: 0.8680, Validation Accuracy: 0.589400\n",
      "Epoch  5, CIFAR-10 Batch 2:  Loss: 0.7165, Validation Accuracy: 0.601200\n",
      "Epoch  5, CIFAR-10 Batch 3:  Loss: 0.6253, Validation Accuracy: 0.588200\n",
      "Epoch  5, CIFAR-10 Batch 4:  Loss: 0.7472, Validation Accuracy: 0.620400\n",
      "Epoch  5, CIFAR-10 Batch 5:  Loss: 0.6782, Validation Accuracy: 0.616600\n",
      "Epoch  6, CIFAR-10 Batch 1:  Loss: 0.7328, Validation Accuracy: 0.606200\n",
      "Epoch  6, CIFAR-10 Batch 2:  Loss: 0.5504, Validation Accuracy: 0.627400\n",
      "Epoch  6, CIFAR-10 Batch 3:  Loss: 0.5034, Validation Accuracy: 0.602400\n",
      "Epoch  6, CIFAR-10 Batch 4:  Loss: 0.6070, Validation Accuracy: 0.631600\n",
      "Epoch  6, CIFAR-10 Batch 5:  Loss: 0.5099, Validation Accuracy: 0.635800\n",
      "Epoch  7, CIFAR-10 Batch 1:  Loss: 0.6163, Validation Accuracy: 0.638000\n",
      "Epoch  7, CIFAR-10 Batch 2:  Loss: 0.4507, Validation Accuracy: 0.644200\n",
      "Epoch  7, CIFAR-10 Batch 3:  Loss: 0.4087, Validation Accuracy: 0.645600\n",
      "Epoch  7, CIFAR-10 Batch 4:  Loss: 0.4673, Validation Accuracy: 0.653400\n",
      "Epoch  7, CIFAR-10 Batch 5:  Loss: 0.4308, Validation Accuracy: 0.658600\n",
      "Epoch  8, CIFAR-10 Batch 1:  Loss: 0.4330, Validation Accuracy: 0.664800\n",
      "Epoch  8, CIFAR-10 Batch 2:  Loss: 0.3497, Validation Accuracy: 0.659200\n",
      "Epoch  8, CIFAR-10 Batch 3:  Loss: 0.2676, Validation Accuracy: 0.657400\n",
      "Epoch  8, CIFAR-10 Batch 4:  Loss: 0.3918, Validation Accuracy: 0.660400\n",
      "Epoch  8, CIFAR-10 Batch 5:  Loss: 0.2798, Validation Accuracy: 0.676000\n",
      "Epoch  9, CIFAR-10 Batch 1:  Loss: 0.3329, Validation Accuracy: 0.662000\n",
      "Epoch  9, CIFAR-10 Batch 2:  Loss: 0.3365, Validation Accuracy: 0.657400\n",
      "Epoch  9, CIFAR-10 Batch 3:  Loss: 0.2142, Validation Accuracy: 0.664400\n",
      "Epoch  9, CIFAR-10 Batch 4:  Loss: 0.2811, Validation Accuracy: 0.679400\n",
      "Epoch  9, CIFAR-10 Batch 5:  Loss: 0.2553, Validation Accuracy: 0.686200\n",
      "Epoch 10, CIFAR-10 Batch 1:  Loss: 0.2627, Validation Accuracy: 0.658800\n",
      "Epoch 10, CIFAR-10 Batch 2:  Loss: 0.2484, Validation Accuracy: 0.664000\n",
      "Epoch 10, CIFAR-10 Batch 3:  Loss: 0.1514, Validation Accuracy: 0.680800\n",
      "Epoch 10, CIFAR-10 Batch 4:  Loss: 0.2438, Validation Accuracy: 0.678800\n",
      "Epoch 10, CIFAR-10 Batch 5:  Loss: 0.1847, Validation Accuracy: 0.690600\n",
      "Epoch 11, CIFAR-10 Batch 1:  Loss: 0.2572, Validation Accuracy: 0.686600\n",
      "Epoch 11, CIFAR-10 Batch 2:  Loss: 0.1956, Validation Accuracy: 0.683600\n",
      "Epoch 11, CIFAR-10 Batch 3:  Loss: 0.1212, Validation Accuracy: 0.674000\n",
      "Epoch 11, CIFAR-10 Batch 4:  Loss: 0.1722, Validation Accuracy: 0.676400\n",
      "Epoch 11, CIFAR-10 Batch 5:  Loss: 0.1080, Validation Accuracy: 0.696200\n",
      "Epoch 12, CIFAR-10 Batch 1:  Loss: 0.1686, Validation Accuracy: 0.676200\n",
      "Epoch 12, CIFAR-10 Batch 2:  Loss: 0.1468, Validation Accuracy: 0.684000\n",
      "Epoch 12, CIFAR-10 Batch 3:  Loss: 0.1170, Validation Accuracy: 0.687600\n",
      "Epoch 12, CIFAR-10 Batch 4:  Loss: 0.1535, Validation Accuracy: 0.695600\n",
      "Epoch 12, CIFAR-10 Batch 5:  Loss: 0.0906, Validation Accuracy: 0.690600\n",
      "Epoch 13, CIFAR-10 Batch 1:  Loss: 0.1257, Validation Accuracy: 0.688600\n",
      "Epoch 13, CIFAR-10 Batch 2:  Loss: 0.0868, Validation Accuracy: 0.694000\n",
      "Epoch 13, CIFAR-10 Batch 3:  Loss: 0.0822, Validation Accuracy: 0.711200\n",
      "Epoch 13, CIFAR-10 Batch 4:  Loss: 0.0974, Validation Accuracy: 0.684200\n",
      "Epoch 13, CIFAR-10 Batch 5:  Loss: 0.0819, Validation Accuracy: 0.708200\n",
      "Epoch 14, CIFAR-10 Batch 1:  Loss: 0.1148, Validation Accuracy: 0.686800\n",
      "Epoch 14, CIFAR-10 Batch 2:  Loss: 0.0751, Validation Accuracy: 0.705400\n",
      "Epoch 14, CIFAR-10 Batch 3:  Loss: 0.0582, Validation Accuracy: 0.702600\n",
      "Epoch 14, CIFAR-10 Batch 4:  Loss: 0.0693, Validation Accuracy: 0.708200\n",
      "Epoch 14, CIFAR-10 Batch 5:  Loss: 0.0610, Validation Accuracy: 0.696800\n",
      "Epoch 15, CIFAR-10 Batch 1:  Loss: 0.0735, Validation Accuracy: 0.706000\n",
      "Epoch 15, CIFAR-10 Batch 2:  Loss: 0.0617, Validation Accuracy: 0.705000\n",
      "Epoch 15, CIFAR-10 Batch 3:  Loss: 0.0392, Validation Accuracy: 0.708200\n",
      "Epoch 15, CIFAR-10 Batch 4:  Loss: 0.0479, Validation Accuracy: 0.703000\n",
      "Epoch 15, CIFAR-10 Batch 5:  Loss: 0.0490, Validation Accuracy: 0.701400\n",
      "Epoch 16, CIFAR-10 Batch 1:  Loss: 0.0568, Validation Accuracy: 0.696600\n",
      "Epoch 16, CIFAR-10 Batch 2:  Loss: 0.0565, Validation Accuracy: 0.701000\n",
      "Epoch 16, CIFAR-10 Batch 3:  Loss: 0.0476, Validation Accuracy: 0.679800\n",
      "Epoch 16, CIFAR-10 Batch 4:  Loss: 0.0524, Validation Accuracy: 0.707400\n",
      "Epoch 16, CIFAR-10 Batch 5:  Loss: 0.0391, Validation Accuracy: 0.707400\n",
      "Epoch 17, CIFAR-10 Batch 1:  Loss: 0.0614, Validation Accuracy: 0.669400\n",
      "Epoch 17, CIFAR-10 Batch 2:  Loss: 0.0353, Validation Accuracy: 0.698000\n",
      "Epoch 17, CIFAR-10 Batch 3:  Loss: 0.0400, Validation Accuracy: 0.684400\n",
      "Epoch 17, CIFAR-10 Batch 4:  Loss: 0.0420, Validation Accuracy: 0.703000\n",
      "Epoch 17, CIFAR-10 Batch 5:  Loss: 0.0280, Validation Accuracy: 0.706200\n",
      "Epoch 18, CIFAR-10 Batch 1:  Loss: 0.0351, Validation Accuracy: 0.691200\n",
      "Epoch 18, CIFAR-10 Batch 2:  Loss: 0.0308, Validation Accuracy: 0.688800\n",
      "Epoch 18, CIFAR-10 Batch 3:  Loss: 0.0423, Validation Accuracy: 0.700600\n",
      "Epoch 18, CIFAR-10 Batch 4:  Loss: 0.0428, Validation Accuracy: 0.696600\n",
      "Epoch 18, CIFAR-10 Batch 5:  Loss: 0.0232, Validation Accuracy: 0.701000\n",
      "Epoch 19, CIFAR-10 Batch 1:  Loss: 0.0358, Validation Accuracy: 0.678200\n",
      "Epoch 19, CIFAR-10 Batch 2:  Loss: 0.0195, Validation Accuracy: 0.701400\n",
      "Epoch 19, CIFAR-10 Batch 3:  Loss: 0.0193, Validation Accuracy: 0.708000\n",
      "Epoch 19, CIFAR-10 Batch 4:  Loss: 0.0316, Validation Accuracy: 0.702400\n",
      "Epoch 19, CIFAR-10 Batch 5:  Loss: 0.0182, Validation Accuracy: 0.708000\n",
      "Epoch 20, CIFAR-10 Batch 1:  Loss: 0.0279, Validation Accuracy: 0.674600\n",
      "Epoch 20, CIFAR-10 Batch 2:  Loss: 0.0196, Validation Accuracy: 0.699000\n",
      "Epoch 20, CIFAR-10 Batch 3:  Loss: 0.0323, Validation Accuracy: 0.707600\n",
      "Epoch 20, CIFAR-10 Batch 4:  Loss: 0.0198, Validation Accuracy: 0.707200\n",
      "Epoch 20, CIFAR-10 Batch 5:  Loss: 0.0190, Validation Accuracy: 0.713400\n",
      "Epoch 21, CIFAR-10 Batch 1:  Loss: 0.0211, Validation Accuracy: 0.706800\n",
      "Epoch 21, CIFAR-10 Batch 2:  Loss: 0.0100, Validation Accuracy: 0.693200\n",
      "Epoch 21, CIFAR-10 Batch 3:  Loss: 0.0093, Validation Accuracy: 0.713400\n",
      "Epoch 21, CIFAR-10 Batch 4:  Loss: 0.0133, Validation Accuracy: 0.709600\n",
      "Epoch 21, CIFAR-10 Batch 5:  Loss: 0.0070, Validation Accuracy: 0.715200\n",
      "Epoch 22, CIFAR-10 Batch 1:  Loss: 0.0124, Validation Accuracy: 0.708200\n",
      "Epoch 22, CIFAR-10 Batch 2:  Loss: 0.0081, Validation Accuracy: 0.700400\n",
      "Epoch 22, CIFAR-10 Batch 3:  Loss: 0.0113, Validation Accuracy: 0.697800\n",
      "Epoch 22, CIFAR-10 Batch 4:  Loss: 0.0097, Validation Accuracy: 0.720800\n",
      "Epoch 22, CIFAR-10 Batch 5:  Loss: 0.0060, Validation Accuracy: 0.717200\n",
      "Epoch 23, CIFAR-10 Batch 1:  Loss: 0.0166, Validation Accuracy: 0.715800\n",
      "Epoch 23, CIFAR-10 Batch 2:  Loss: 0.0087, Validation Accuracy: 0.695400\n",
      "Epoch 23, CIFAR-10 Batch 3:  Loss: 0.0072, Validation Accuracy: 0.718400\n",
      "Epoch 23, CIFAR-10 Batch 4:  Loss: 0.0101, Validation Accuracy: 0.720600\n",
      "Epoch 23, CIFAR-10 Batch 5:  Loss: 0.0126, Validation Accuracy: 0.720200\n",
      "Epoch 24, CIFAR-10 Batch 1:  Loss: 0.0108, Validation Accuracy: 0.692600\n",
      "Epoch 24, CIFAR-10 Batch 2:  Loss: 0.0093, Validation Accuracy: 0.700600\n",
      "Epoch 24, CIFAR-10 Batch 3:  Loss: 0.0045, Validation Accuracy: 0.719200\n",
      "Epoch 24, CIFAR-10 Batch 4:  Loss: 0.0041, Validation Accuracy: 0.724200\n",
      "Epoch 24, CIFAR-10 Batch 5:  Loss: 0.0075, Validation Accuracy: 0.712800\n",
      "Epoch 25, CIFAR-10 Batch 1:  Loss: 0.0096, Validation Accuracy: 0.708000\n",
      "Epoch 25, CIFAR-10 Batch 2:  Loss: 0.0146, Validation Accuracy: 0.709400\n",
      "Epoch 25, CIFAR-10 Batch 3:  Loss: 0.0029, Validation Accuracy: 0.718400\n",
      "Epoch 25, CIFAR-10 Batch 4:  Loss: 0.0053, Validation Accuracy: 0.712400\n",
      "Epoch 25, CIFAR-10 Batch 5:  Loss: 0.0051, Validation Accuracy: 0.719600\n",
      "Epoch 26, CIFAR-10 Batch 1:  Loss: 0.0058, Validation Accuracy: 0.705400\n",
      "Epoch 26, CIFAR-10 Batch 2:  Loss: 0.0098, Validation Accuracy: 0.713000\n",
      "Epoch 26, CIFAR-10 Batch 3:  Loss: 0.0040, Validation Accuracy: 0.710600\n",
      "Epoch 26, CIFAR-10 Batch 4:  Loss: 0.0028, Validation Accuracy: 0.717000\n",
      "Epoch 26, CIFAR-10 Batch 5:  Loss: 0.0041, Validation Accuracy: 0.730000\n",
      "Epoch 27, CIFAR-10 Batch 1:  Loss: 0.0026, Validation Accuracy: 0.706200\n",
      "Epoch 27, CIFAR-10 Batch 2:  Loss: 0.0077, Validation Accuracy: 0.697400\n",
      "Epoch 27, CIFAR-10 Batch 3:  Loss: 0.0023, Validation Accuracy: 0.724000\n",
      "Epoch 27, CIFAR-10 Batch 4:  Loss: 0.0035, Validation Accuracy: 0.722400\n",
      "Epoch 27, CIFAR-10 Batch 5:  Loss: 0.0101, Validation Accuracy: 0.714400\n",
      "Epoch 28, CIFAR-10 Batch 1:  Loss: 0.0053, Validation Accuracy: 0.697600\n",
      "Epoch 28, CIFAR-10 Batch 2:  Loss: 0.0072, Validation Accuracy: 0.702600\n",
      "Epoch 28, CIFAR-10 Batch 3:  Loss: 0.0013, Validation Accuracy: 0.721000\n",
      "Epoch 28, CIFAR-10 Batch 4:  Loss: 0.0066, Validation Accuracy: 0.719600\n",
      "Epoch 28, CIFAR-10 Batch 5:  Loss: 0.0052, Validation Accuracy: 0.716600\n",
      "Epoch 29, CIFAR-10 Batch 1:  Loss: 0.0032, Validation Accuracy: 0.697400\n",
      "Epoch 29, CIFAR-10 Batch 2:  Loss: 0.0050, Validation Accuracy: 0.695400\n",
      "Epoch 29, CIFAR-10 Batch 3:  Loss: 0.0015, Validation Accuracy: 0.717600\n",
      "Epoch 29, CIFAR-10 Batch 4:  Loss: 0.0089, Validation Accuracy: 0.716000\n",
      "Epoch 29, CIFAR-10 Batch 5:  Loss: 0.0034, Validation Accuracy: 0.718600\n",
      "Epoch 30, CIFAR-10 Batch 1:  Loss: 0.0019, Validation Accuracy: 0.709800\n",
      "Epoch 30, CIFAR-10 Batch 2:  Loss: 0.0039, Validation Accuracy: 0.699600\n",
      "Epoch 30, CIFAR-10 Batch 3:  Loss: 0.0014, Validation Accuracy: 0.721200\n",
      "Epoch 30, CIFAR-10 Batch 4:  Loss: 0.0048, Validation Accuracy: 0.718400\n",
      "Epoch 30, CIFAR-10 Batch 5:  Loss: 0.0060, Validation Accuracy: 0.719400\n",
      "Epoch 31, CIFAR-10 Batch 1:  Loss: 0.0019, Validation Accuracy: 0.714600\n",
      "Epoch 31, CIFAR-10 Batch 2:  Loss: 0.0014, Validation Accuracy: 0.718400\n",
      "Epoch 31, CIFAR-10 Batch 3:  Loss: 0.0025, Validation Accuracy: 0.721400\n",
      "Epoch 31, CIFAR-10 Batch 4:  Loss: 0.0021, Validation Accuracy: 0.728400\n",
      "Epoch 31, CIFAR-10 Batch 5:  Loss: 0.0008, Validation Accuracy: 0.727200\n",
      "Epoch 32, CIFAR-10 Batch 1:  Loss: 0.0018, Validation Accuracy: 0.701600\n",
      "Epoch 32, CIFAR-10 Batch 2:  Loss: 0.0019, Validation Accuracy: 0.712000\n",
      "Epoch 32, CIFAR-10 Batch 3:  Loss: 0.0011, Validation Accuracy: 0.714000\n",
      "Epoch 32, CIFAR-10 Batch 4:  Loss: 0.0026, Validation Accuracy: 0.722800\n",
      "Epoch 32, CIFAR-10 Batch 5:  Loss: 0.0183, Validation Accuracy: 0.730400\n",
      "Epoch 33, CIFAR-10 Batch 1:  Loss: 0.0013, Validation Accuracy: 0.707000\n",
      "Epoch 33, CIFAR-10 Batch 2:  Loss: 0.0024, Validation Accuracy: 0.708400\n",
      "Epoch 33, CIFAR-10 Batch 3:  Loss: 0.0021, Validation Accuracy: 0.712600\n",
      "Epoch 33, CIFAR-10 Batch 4:  Loss: 0.0010, Validation Accuracy: 0.719000\n",
      "Epoch 33, CIFAR-10 Batch 5:  Loss: 0.0005, Validation Accuracy: 0.731000\n",
      "Epoch 34, CIFAR-10 Batch 1:  Loss: 0.0017, Validation Accuracy: 0.699600\n",
      "Epoch 34, CIFAR-10 Batch 2:  Loss: 0.0007, Validation Accuracy: 0.717200\n",
      "Epoch 34, CIFAR-10 Batch 3:  Loss: 0.0033, Validation Accuracy: 0.718400\n",
      "Epoch 34, CIFAR-10 Batch 4:  Loss: 0.0015, Validation Accuracy: 0.718000\n",
      "Epoch 34, CIFAR-10 Batch 5:  Loss: 0.0006, Validation Accuracy: 0.721000\n",
      "Epoch 35, CIFAR-10 Batch 1:  Loss: 0.0016, Validation Accuracy: 0.708600\n",
      "Epoch 35, CIFAR-10 Batch 2:  Loss: 0.0006, Validation Accuracy: 0.719000\n",
      "Epoch 35, CIFAR-10 Batch 3:  Loss: 0.0004, Validation Accuracy: 0.716000\n",
      "Epoch 35, CIFAR-10 Batch 4:  Loss: 0.0017, Validation Accuracy: 0.723600\n",
      "Epoch 35, CIFAR-10 Batch 5:  Loss: 0.0008, Validation Accuracy: 0.717400\n",
      "Epoch 36, CIFAR-10 Batch 1:  Loss: 0.0030, Validation Accuracy: 0.708400\n",
      "Epoch 36, CIFAR-10 Batch 2:  Loss: 0.0019, Validation Accuracy: 0.715400\n",
      "Epoch 36, CIFAR-10 Batch 3:  Loss: 0.0002, Validation Accuracy: 0.721400\n",
      "Epoch 36, CIFAR-10 Batch 4:  Loss: 0.0041, Validation Accuracy: 0.718200\n",
      "Epoch 36, CIFAR-10 Batch 5:  Loss: 0.0006, Validation Accuracy: 0.722600\n",
      "Epoch 37, CIFAR-10 Batch 1:  Loss: 0.0016, Validation Accuracy: 0.715400\n",
      "Epoch 37, CIFAR-10 Batch 2:  Loss: 0.0003, Validation Accuracy: 0.715800\n",
      "Epoch 37, CIFAR-10 Batch 3:  Loss: 0.0060, Validation Accuracy: 0.718400\n",
      "Epoch 37, CIFAR-10 Batch 4:  Loss: 0.0009, Validation Accuracy: 0.712400\n",
      "Epoch 37, CIFAR-10 Batch 5:  Loss: 0.0021, Validation Accuracy: 0.724600\n",
      "Epoch 38, CIFAR-10 Batch 1:  Loss: 0.0036, Validation Accuracy: 0.703800\n",
      "Epoch 38, CIFAR-10 Batch 2:  Loss: 0.0004, Validation Accuracy: 0.714200\n",
      "Epoch 38, CIFAR-10 Batch 3:  Loss: 0.0004, Validation Accuracy: 0.726200\n",
      "Epoch 38, CIFAR-10 Batch 4:  Loss: 0.0009, Validation Accuracy: 0.711800\n",
      "Epoch 38, CIFAR-10 Batch 5:  Loss: 0.0007, Validation Accuracy: 0.713800\n",
      "Epoch 39, CIFAR-10 Batch 1:  Loss: 0.0019, Validation Accuracy: 0.701600\n",
      "Epoch 39, CIFAR-10 Batch 2:  Loss: 0.0018, Validation Accuracy: 0.702000\n",
      "Epoch 39, CIFAR-10 Batch 3:  Loss: 0.0007, Validation Accuracy: 0.718400\n",
      "Epoch 39, CIFAR-10 Batch 4:  Loss: 0.0013, Validation Accuracy: 0.724600\n",
      "Epoch 39, CIFAR-10 Batch 5:  Loss: 0.0006, Validation Accuracy: 0.721400\n",
      "Epoch 40, CIFAR-10 Batch 1:  Loss: 0.0048, Validation Accuracy: 0.715400\n",
      "Epoch 40, CIFAR-10 Batch 2:  Loss: 0.0081, Validation Accuracy: 0.714400\n",
      "Epoch 40, CIFAR-10 Batch 3:  Loss: 0.0003, Validation Accuracy: 0.722200\n",
      "Epoch 40, CIFAR-10 Batch 4:  Loss: 0.0008, Validation Accuracy: 0.712800\n",
      "Epoch 40, CIFAR-10 Batch 5:  Loss: 0.0007, Validation Accuracy: 0.714600\n",
      "Epoch 41, CIFAR-10 Batch 1:  Loss: 0.0009, Validation Accuracy: 0.722400\n",
      "Epoch 41, CIFAR-10 Batch 2:  Loss: 0.0009, Validation Accuracy: 0.719800\n",
      "Epoch 41, CIFAR-10 Batch 3:  Loss: 0.0002, Validation Accuracy: 0.718000\n",
      "Epoch 41, CIFAR-10 Batch 4:  Loss: 0.0011, Validation Accuracy: 0.717800\n",
      "Epoch 41, CIFAR-10 Batch 5:  Loss: 0.0005, Validation Accuracy: 0.725000\n",
      "Epoch 42, CIFAR-10 Batch 1:  Loss: 0.0007, Validation Accuracy: 0.725400\n",
      "Epoch 42, CIFAR-10 Batch 2:  Loss: 0.0009, Validation Accuracy: 0.712600\n",
      "Epoch 42, CIFAR-10 Batch 3:  Loss: 0.0004, Validation Accuracy: 0.715200\n",
      "Epoch 42, CIFAR-10 Batch 4:  Loss: 0.0009, Validation Accuracy: 0.714800\n",
      "Epoch 42, CIFAR-10 Batch 5:  Loss: 0.0008, Validation Accuracy: 0.731000\n",
      "Epoch 43, CIFAR-10 Batch 1:  Loss: 0.0010, Validation Accuracy: 0.721600\n",
      "Epoch 43, CIFAR-10 Batch 2:  Loss: 0.0006, Validation Accuracy: 0.707800\n",
      "Epoch 43, CIFAR-10 Batch 3:  Loss: 0.0006, Validation Accuracy: 0.720800\n",
      "Epoch 43, CIFAR-10 Batch 4:  Loss: 0.0006, Validation Accuracy: 0.725200\n",
      "Epoch 43, CIFAR-10 Batch 5:  Loss: 0.0004, Validation Accuracy: 0.729200\n",
      "Epoch 44, CIFAR-10 Batch 1:  Loss: 0.0002, Validation Accuracy: 0.727800\n",
      "Epoch 44, CIFAR-10 Batch 2:  Loss: 0.0009, Validation Accuracy: 0.701400\n",
      "Epoch 44, CIFAR-10 Batch 3:  Loss: 0.0004, Validation Accuracy: 0.713000\n",
      "Epoch 44, CIFAR-10 Batch 4:  Loss: 0.0006, Validation Accuracy: 0.711400\n",
      "Epoch 44, CIFAR-10 Batch 5:  Loss: 0.0001, Validation Accuracy: 0.731800\n",
      "Epoch 45, CIFAR-10 Batch 1:  Loss: 0.0014, Validation Accuracy: 0.725800\n",
      "Epoch 45, CIFAR-10 Batch 2:  Loss: 0.0006, Validation Accuracy: 0.714600\n",
      "Epoch 45, CIFAR-10 Batch 3:  Loss: 0.0003, Validation Accuracy: 0.732800\n",
      "Epoch 45, CIFAR-10 Batch 4:  Loss: 0.0008, Validation Accuracy: 0.711400\n",
      "Epoch 45, CIFAR-10 Batch 5:  Loss: 0.0004, Validation Accuracy: 0.722400\n",
      "Epoch 46, CIFAR-10 Batch 1:  Loss: 0.0010, Validation Accuracy: 0.730200\n",
      "Epoch 46, CIFAR-10 Batch 2:  Loss: 0.0013, Validation Accuracy: 0.709000\n",
      "Epoch 46, CIFAR-10 Batch 3:  Loss: 0.0005, Validation Accuracy: 0.724800\n",
      "Epoch 46, CIFAR-10 Batch 4:  Loss: 0.0013, Validation Accuracy: 0.716200\n",
      "Epoch 46, CIFAR-10 Batch 5:  Loss: 0.0003, Validation Accuracy: 0.723000\n",
      "Epoch 47, CIFAR-10 Batch 1:  Loss: 0.0012, Validation Accuracy: 0.726600\n",
      "Epoch 47, CIFAR-10 Batch 2:  Loss: 0.0010, Validation Accuracy: 0.719600\n",
      "Epoch 47, CIFAR-10 Batch 3:  Loss: 0.0001, Validation Accuracy: 0.731400\n",
      "Epoch 47, CIFAR-10 Batch 4:  Loss: 0.0004, Validation Accuracy: 0.720600\n",
      "Epoch 47, CIFAR-10 Batch 5:  Loss: 0.0007, Validation Accuracy: 0.723000\n",
      "Epoch 48, CIFAR-10 Batch 1:  Loss: 0.0003, Validation Accuracy: 0.719000\n",
      "Epoch 48, CIFAR-10 Batch 2:  Loss: 0.0008, Validation Accuracy: 0.716800\n",
      "Epoch 48, CIFAR-10 Batch 3:  Loss: 0.0007, Validation Accuracy: 0.721600\n",
      "Epoch 48, CIFAR-10 Batch 4:  Loss: 0.0007, Validation Accuracy: 0.716800\n",
      "Epoch 48, CIFAR-10 Batch 5:  Loss: 0.0005, Validation Accuracy: 0.728200\n",
      "Epoch 49, CIFAR-10 Batch 1:  Loss: 0.0016, Validation Accuracy: 0.724400\n",
      "Epoch 49, CIFAR-10 Batch 2:  Loss: 0.0006, Validation Accuracy: 0.723600\n",
      "Epoch 49, CIFAR-10 Batch 3:  Loss: 0.0003, Validation Accuracy: 0.729200\n",
      "Epoch 49, CIFAR-10 Batch 4:  Loss: 0.0004, Validation Accuracy: 0.725800\n",
      "Epoch 49, CIFAR-10 Batch 5:  Loss: 0.0008, Validation Accuracy: 0.723600\n",
      "Epoch 50, CIFAR-10 Batch 1:  Loss: 0.0004, Validation Accuracy: 0.724400\n",
      "Epoch 50, CIFAR-10 Batch 2:  Loss: 0.0004, Validation Accuracy: 0.725800\n",
      "Epoch 50, CIFAR-10 Batch 3:  Loss: 0.0006, Validation Accuracy: 0.725200\n",
      "Epoch 50, CIFAR-10 Batch 4:  Loss: 0.0001, Validation Accuracy: 0.725000\n",
      "Epoch 50, CIFAR-10 Batch 5:  Loss: 0.0003, Validation Accuracy: 0.724200\n"
     ]
    }
   ],
   "source": [
    "\"\"\"\n",
    "DON'T MODIFY ANYTHING IN THIS CELL\n",
    "\"\"\"\n",
    "save_model_path = './image_classification'\n",
    "\n",
    "print('Training...')\n",
    "with tf.Session() as sess:\n",
    "    # Initializing the variables\n",
    "    sess.run(tf.global_variables_initializer())\n",
    "    \n",
    "    # Training cycle\n",
    "    for epoch in range(epochs):\n",
    "        # Loop over all batches\n",
    "        n_batches = 5\n",
    "        for batch_i in range(1, n_batches + 1):\n",
    "            for batch_features, batch_labels in helper.load_preprocess_training_batch(batch_i, batch_size):\n",
    "                train_neural_network(sess, optimizer, keep_probability, batch_features, batch_labels)\n",
    "            print('Epoch {:>2}, CIFAR-10 Batch {}:  '.format(epoch + 1, batch_i), end='')\n",
    "            print_stats(sess, batch_features, batch_labels, cost, accuracy)\n",
    "            \n",
    "    # Save Model\n",
    "    saver = tf.train.Saver()\n",
    "    save_path = saver.save(sess, save_model_path)"
   ]
  },
  {
   "cell_type": "markdown",
   "metadata": {
    "deletable": true,
    "editable": true
   },
   "source": [
    "# Checkpoint\n",
    "The model has been saved to disk.\n",
    "## Test Model\n",
    "Test your model against the test dataset.  This will be your final accuracy. You should have an accuracy greater than 50%. If you don't, keep tweaking the model architecture and parameters."
   ]
  },
  {
   "cell_type": "code",
   "execution_count": 73,
   "metadata": {
    "collapsed": false,
    "deletable": true,
    "editable": true
   },
   "outputs": [
    {
     "name": "stdout",
     "output_type": "stream",
     "text": [
      "Testing Accuracy: 0.71484375\n",
      "\n"
     ]
    },
    {
     "data": {
      "image/png": "[encoded data removed]",
      "text/plain": [
       "<matplotlib.figure.Figure at 0x7f7392c983c8>"
      ]
     },
     "metadata": {
      "image/png": {
       "height": 319,
       "width": 349
      }
     },
     "output_type": "display_data"
    }
   ],
   "source": [
    "\"\"\"\n",
    "DON'T MODIFY ANYTHING IN THIS CELL\n",
    "\"\"\"\n",
    "%matplotlib inline\n",
    "%config InlineBackend.figure_format = 'retina'\n",
    "\n",
    "import tensorflow as tf\n",
    "import pickle\n",
    "import helper\n",
    "import random\n",
    "\n",
    "# Set batch size if not already set\n",
    "try:\n",
    "    if batch_size:\n",
    "        pass\n",
    "except NameError:\n",
    "    batch_size = 64\n",
    "\n",
    "save_model_path = './image_classification'\n",
    "n_samples = 4\n",
    "top_n_predictions = 3\n",
    "\n",
    "def test_model():\n",
    "    \"\"\"\n",
    "    Test the saved model against the test dataset\n",
    "    \"\"\"\n",
    "\n",
    "    test_features, test_labels = pickle.load(open('preprocess_training.p', mode='rb'))\n",
    "    loaded_graph = tf.Graph()\n",
    "\n",
    "    with tf.Session(graph=loaded_graph) as sess:\n",
    "        # Load model\n",
    "        loader = tf.train.import_meta_graph(save_model_path + '.meta')\n",
    "        loader.restore(sess, save_model_path)\n",
    "\n",
    "        # Get Tensors from loaded model\n",
    "        loaded_x = loaded_graph.get_tensor_by_name('x:0')\n",
    "        loaded_y = loaded_graph.get_tensor_by_name('y:0')\n",
    "        loaded_keep_prob = loaded_graph.get_tensor_by_name('keep_prob:0')\n",
    "        loaded_logits = loaded_graph.get_tensor_by_name('logits:0')\n",
    "        loaded_acc = loaded_graph.get_tensor_by_name('accuracy:0')\n",
    "        \n",
    "        # Get accuracy in batches for memory limitations\n",
    "        test_batch_acc_total = 0\n",
    "        test_batch_count = 0\n",
    "        \n",
    "        for train_feature_batch, train_label_batch in helper.batch_features_labels(test_features, test_labels, batch_size):\n",
    "            test_batch_acc_total += sess.run(\n",
    "                loaded_acc,\n",
    "                feed_dict={loaded_x: train_feature_batch, loaded_y: train_label_batch, loaded_keep_prob: 1.0})\n",
    "            test_batch_count += 1\n",
    "\n",
    "        print('Testing Accuracy: {}\\n'.format(test_batch_acc_total/test_batch_count))\n",
    "\n",
    "        # Print Random Samples\n",
    "        random_test_features, random_test_labels = tuple(zip(*random.sample(list(zip(test_features, test_labels)), n_samples)))\n",
    "        random_test_predictions = sess.run(\n",
    "            tf.nn.top_k(tf.nn.softmax(loaded_logits), top_n_predictions),\n",
    "            feed_dict={loaded_x: random_test_features, loaded_y: random_test_labels, loaded_keep_prob: 1.0})\n",
    "        helper.display_image_predictions(random_test_features, random_test_labels, random_test_predictions)\n",
    "\n",
    "\n",
    "test_model()"
   ]
  },
  {
   "cell_type": "markdown",
   "metadata": {
    "deletable": true,
    "editable": true
   },
   "source": [
    "## Why 50-70% Accuracy?\n",
    "You might be wondering why you can't get an accuracy any higher. First things first, 50% isn't bad for a simple CNN.  Pure guessing would get you 10% accuracy. However, you might notice people are getting scores [well above 70%](http://rodrigob.github.io/are_we_there_yet/build/classification_datasets_results.html#43494641522d3130).  That's because we haven't taught you all there is to know about neural networks. We still need to cover a few more techniques.\n",
    "## Submitting This Project\n",
    "When submitting this project, make sure to run all the cells before saving the notebook.  Save the notebook file as \"dlnd_image_classification.ipynb\" and save it as a HTML file under \"File\" -> \"Download as\".  Include the \"helper.py\" and \"problem_unittests.py\" files in your submission."
   ]
  }
 ],
 "metadata": {
  "kernelspec": {
   "display_name": "Python 3",
   "language": "python",
   "name": "python3"
  },
  "language_info": {
   "codemirror_mode": {
    "name": "ipython",
    "version": 3
   },
   "file_extension": ".py",
   "mimetype": "text/x-python",
   "name": "python",
   "nbconvert_exporter": "python",
   "pygments_lexer": "ipython3",
   "version": "3.5.2"
  },
  "widgets": {
   "state": {},
   "version": "1.1.2"
  }
 },
 "nbformat": 4,
 "nbformat_minor": 0
}
